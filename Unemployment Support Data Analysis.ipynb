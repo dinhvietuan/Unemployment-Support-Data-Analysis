{
  "cells": [
    {
      "cell_type": "code",
      "execution_count": null,
      "id": "98c26a0a-8aff-418f-bf34-edf397c0e5d3",
      "metadata": {
        "execution": {
          "iopub.execute_input": "2022-05-11T01:25:49.188831Z",
          "iopub.status.busy": "2022-05-11T01:25:49.188575Z",
          "iopub.status.idle": "2022-05-11T01:25:49.191623Z",
          "shell.execute_reply": "2022-05-11T01:25:49.190878Z",
          "shell.execute_reply.started": "2022-05-11T01:25:49.188809Z"
        },
        "id": "98c26a0a-8aff-418f-bf34-edf397c0e5d3",
        "tags": []
      },
      "outputs": [],
      "source": [
        "import pandas as pd\n",
        "import numpy as np\n",
        "from sklearn.preprocessing import OrdinalEncoder, MultiLabelBinarizer\n",
        "import matplotlib.pyplot as plt\n",
        "import seaborn as sns\n",
        "from sklearn.model_selection import train_test_split\n",
        "from sklearn.neighbors import KNeighborsClassifier\n",
        "from sklearn.svm import SVC\n",
        "from sklearn.naive_bayes import GaussianNB, CategoricalNB, BernoulliNB\n",
        "from sklearn.linear_model import LogisticRegression\n",
        "from sklearn.tree import DecisionTreeClassifier, plot_tree\n",
        "from sklearn.ensemble import ExtraTreesClassifier, RandomForestClassifier\n",
        "from sklearn.ensemble import AdaBoostClassifier, GradientBoostingClassifier\n",
        "from sklearn.metrics import roc_auc_score\n",
        "\n",
        "plt.style.use(['seaborn', 'seaborn-whitegrid'])\n",
        "%config InlineBackend.figure_format = 'retina'\n",
        "import warnings\n",
        "warnings.filterwarnings(\"ignore\")"
      ]
    },
    {
      "cell_type": "code",
      "execution_count": null,
      "id": "a9091483-5a41-4e77-8664-2b58a69b1da9",
      "metadata": {
        "colab": {
          "base_uri": "https://localhost:8080/",
          "height": 355
        },
        "execution": {
          "iopub.execute_input": "2022-05-11T00:34:32.632454Z",
          "iopub.status.busy": "2022-05-11T00:34:32.632058Z",
          "iopub.status.idle": "2022-05-11T00:34:32.675637Z",
          "shell.execute_reply": "2022-05-11T00:34:32.674892Z",
          "shell.execute_reply.started": "2022-05-11T00:34:32.632425Z"
        },
        "id": "a9091483-5a41-4e77-8664-2b58a69b1da9",
        "outputId": "7b530dbd-ce33-4f44-f01b-650117f0d76e",
        "tags": []
      },
      "outputs": [
        {
          "data": {
            "text/html": [
              "<div>\n",
              "<style scoped>\n",
              "    .dataframe tbody tr th:only-of-type {\n",
              "        vertical-align: middle;\n",
              "    }\n",
              "\n",
              "    .dataframe tbody tr th {\n",
              "        vertical-align: top;\n",
              "    }\n",
              "\n",
              "    .dataframe thead th {\n",
              "        text-align: right;\n",
              "    }\n",
              "</style>\n",
              "<table border=\"1\" class=\"dataframe\">\n",
              "  <thead>\n",
              "    <tr style=\"text-align: right;\">\n",
              "      <th></th>\n",
              "      <th>employer</th>\n",
              "      <th>registration_date</th>\n",
              "      <th>client_current_age</th>\n",
              "      <th>parent_on_enrolment</th>\n",
              "      <th>gender</th>\n",
              "      <th>ethnic_origin</th>\n",
              "      <th>has_disability</th>\n",
              "      <th>disability_details</th>\n",
              "      <th>religion</th>\n",
              "      <th>sexuality</th>\n",
              "      <th>highest_level_of_education</th>\n",
              "      <th>claiming_benefits</th>\n",
              "      <th>benefits</th>\n",
              "      <th>ward_name</th>\n",
              "    </tr>\n",
              "  </thead>\n",
              "  <tbody>\n",
              "    <tr>\n",
              "      <th>0</th>\n",
              "      <td>No Outcome</td>\n",
              "      <td>22/07/2021</td>\n",
              "      <td>29</td>\n",
              "      <td>Blanks</td>\n",
              "      <td>Female</td>\n",
              "      <td>(C) Asian or Asian British - Any other Asian b...</td>\n",
              "      <td>No</td>\n",
              "      <td>NaN</td>\n",
              "      <td>Blanks</td>\n",
              "      <td>Prefer not to say sexuality</td>\n",
              "      <td>ISCED Level 6 (Bachelor's or equivalent level)</td>\n",
              "      <td>No</td>\n",
              "      <td>Not in receipt of benefits</td>\n",
              "      <td>Whitechapel</td>\n",
              "    </tr>\n",
              "    <tr>\n",
              "      <th>1</th>\n",
              "      <td>No Outcome</td>\n",
              "      <td>24/08/2021</td>\n",
              "      <td>32</td>\n",
              "      <td>Blanks</td>\n",
              "      <td>Male</td>\n",
              "      <td>(C) Asian or Asian British - Any other Asian b...</td>\n",
              "      <td>No</td>\n",
              "      <td>NaN</td>\n",
              "      <td>Blanks</td>\n",
              "      <td>Prefer not to say sexuality</td>\n",
              "      <td>ISCED Level 6 (Bachelor's or equivalent level)</td>\n",
              "      <td>No</td>\n",
              "      <td>Not in receipt of benefits</td>\n",
              "      <td>Stepney Green</td>\n",
              "    </tr>\n",
              "    <tr>\n",
              "      <th>2</th>\n",
              "      <td>No Outcome</td>\n",
              "      <td>13/05/2021</td>\n",
              "      <td>48</td>\n",
              "      <td>Blanks</td>\n",
              "      <td>Female</td>\n",
              "      <td>(D) Black or Black British - Other African</td>\n",
              "      <td>Blanks</td>\n",
              "      <td>NaN</td>\n",
              "      <td>Christian</td>\n",
              "      <td>Heterosexual</td>\n",
              "      <td>Blanks</td>\n",
              "      <td>Blanks</td>\n",
              "      <td>NaN</td>\n",
              "      <td>Forest</td>\n",
              "    </tr>\n",
              "  </tbody>\n",
              "</table>\n",
              "</div>"
            ],
            "text/plain": [
              "     employer registration_date  client_current_age parent_on_enrolment  \\\n",
              "0  No Outcome        22/07/2021                  29              Blanks   \n",
              "1  No Outcome        24/08/2021                  32              Blanks   \n",
              "2  No Outcome        13/05/2021                  48              Blanks   \n",
              "\n",
              "   gender                                      ethnic_origin has_disability  \\\n",
              "0  Female  (C) Asian or Asian British - Any other Asian b...             No   \n",
              "1    Male  (C) Asian or Asian British - Any other Asian b...             No   \n",
              "2  Female         (D) Black or Black British - Other African         Blanks   \n",
              "\n",
              "   disability_details   religion                    sexuality  \\\n",
              "0                 NaN     Blanks  Prefer not to say sexuality   \n",
              "1                 NaN     Blanks  Prefer not to say sexuality   \n",
              "2                 NaN  Christian                 Heterosexual   \n",
              "\n",
              "                       highest_level_of_education claiming_benefits  \\\n",
              "0  ISCED Level 6 (Bachelor's or equivalent level)                No   \n",
              "1  ISCED Level 6 (Bachelor's or equivalent level)                No   \n",
              "2                                          Blanks            Blanks   \n",
              "\n",
              "                     benefits      ward_name  \n",
              "0  Not in receipt of benefits    Whitechapel  \n",
              "1  Not in receipt of benefits  Stepney Green  \n",
              "2                         NaN         Forest  "
            ]
          },
          "execution_count": 158,
          "metadata": {},
          "output_type": "execute_result"
        }
      ],
      "source": [
        "dfEmployer = pd.read_csv('Islington_iwork_anonymous_data.csv')\n",
        "dfEmployer.columns = dfEmployer.columns.str.lower()\n",
        "dfEmployer.head(3)"
      ]
    },
    {
      "cell_type": "markdown",
      "id": "20f36142-f5d3-4781-ba2d-9f84cf8b3f92",
      "metadata": {
        "id": "20f36142-f5d3-4781-ba2d-9f84cf8b3f92"
      },
      "source": [
        "# 1. Data understanding"
      ]
    },
    {
      "cell_type": "markdown",
      "id": "381ed719-e5d9-475c-a6c6-ccf7dffb9455",
      "metadata": {
        "id": "381ed719-e5d9-475c-a6c6-ccf7dffb9455"
      },
      "source": [
        "#### Produce a meta data table to show characteristics of each variable"
      ]
    },
    {
      "cell_type": "code",
      "execution_count": null,
      "id": "81a4433e-09ea-4c83-bb56-f9c4fddc4bea",
      "metadata": {
        "execution": {
          "iopub.execute_input": "2022-05-11T00:34:39.941318Z",
          "iopub.status.busy": "2022-05-11T00:34:39.941063Z",
          "iopub.status.idle": "2022-05-11T00:34:39.947191Z",
          "shell.execute_reply": "2022-05-11T00:34:39.946345Z",
          "shell.execute_reply.started": "2022-05-11T00:34:39.941297Z"
        },
        "id": "81a4433e-09ea-4c83-bb56-f9c4fddc4bea",
        "outputId": "3bf54d0f-3dfc-4b42-9a92-883e19d57f79",
        "tags": []
      },
      "outputs": [
        {
          "data": {
            "text/plain": [
              "employer                       object\n",
              "registration_date              object\n",
              "client_current_age              int64\n",
              "parent_on_enrolment            object\n",
              "gender                         object\n",
              "ethnic_origin                  object\n",
              "has_disability                 object\n",
              "disability_details            float64\n",
              "religion                       object\n",
              "sexuality                      object\n",
              "highest_level_of_education     object\n",
              "claiming_benefits              object\n",
              "benefits                       object\n",
              "ward_name                      object\n",
              "dtype: object"
            ]
          },
          "execution_count": 4,
          "metadata": {},
          "output_type": "execute_result"
        }
      ],
      "source": [
        "#data type\n",
        "dfEmployer.dtypes"
      ]
    },
    {
      "cell_type": "code",
      "execution_count": null,
      "id": "bfd787d8-19d9-43be-b88a-3d8b34a0c12a",
      "metadata": {
        "execution": {
          "iopub.execute_input": "2022-05-10T17:14:18.581217Z",
          "iopub.status.busy": "2022-05-10T17:14:18.580767Z",
          "iopub.status.idle": "2022-05-10T17:14:18.630485Z",
          "shell.execute_reply": "2022-05-10T17:14:18.629882Z",
          "shell.execute_reply.started": "2022-05-10T17:14:18.581173Z"
        },
        "id": "bfd787d8-19d9-43be-b88a-3d8b34a0c12a",
        "tags": []
      },
      "outputs": [],
      "source": [
        "pd.DataFrame({\n",
        "    'dType': dfEmployer.dtypes,\n",
        "    'nUnique': dfEmployer.apply(pd.Series.nunique),\n",
        "    'cardinality': (dfEmployer.apply(pd.Series.nunique) / dfEmployer.shape[0]).round(4),\n",
        "    'nullRatio': (dfEmployer.isna().sum()/ dfEmployer.shape[0]).round(4),\n",
        "}).to_excel('metadata.xlsx')"
      ]
    },
    {
      "cell_type": "code",
      "execution_count": null,
      "id": "d123b1e3-1c7e-4635-8f68-b7a9c143ac8c",
      "metadata": {
        "execution": {
          "iopub.execute_input": "2022-05-11T00:35:00.769859Z",
          "iopub.status.busy": "2022-05-11T00:35:00.769480Z",
          "iopub.status.idle": "2022-05-11T00:35:01.139099Z",
          "shell.execute_reply": "2022-05-11T00:35:01.138236Z",
          "shell.execute_reply.started": "2022-05-11T00:35:00.769825Z"
        },
        "id": "d123b1e3-1c7e-4635-8f68-b7a9c143ac8c",
        "outputId": "6c2f2e85-ca8e-4df0-ccf3-1cdbd46e67e0",
        "tags": []
      },
      "outputs": [
        {
          "data": {
            "text/plain": [
              "employer                      0.0589\n",
              "registration_date             0.1782\n",
              "client_current_age            0.0146\n",
              "parent_on_enrolment           0.0006\n",
              "gender                        0.0013\n",
              "ethnic_origin                 0.0069\n",
              "has_disability                0.0008\n",
              "disability_details            0.0000\n",
              "religion                      0.0025\n",
              "sexuality                     0.0015\n",
              "highest_level_of_education    0.0021\n",
              "claiming_benefits             0.0006\n",
              "benefits                      0.0155\n",
              "ward_name                     0.0428\n",
              "dtype: float64"
            ]
          },
          "execution_count": 10,
          "metadata": {},
          "output_type": "execute_result"
        }
      ],
      "source": [
        "# cardinality ratio\n",
        "(dfEmployer.apply(pd.Series.nunique) / dfEmployer.shape[0]).round(4)"
      ]
    },
    {
      "cell_type": "code",
      "execution_count": null,
      "id": "44c656fb-57a1-4886-9b9d-73404c21a096",
      "metadata": {
        "execution": {
          "iopub.execute_input": "2022-05-11T00:35:08.577100Z",
          "iopub.status.busy": "2022-05-11T00:35:08.576811Z",
          "iopub.status.idle": "2022-05-11T00:35:08.582819Z",
          "shell.execute_reply": "2022-05-11T00:35:08.581854Z",
          "shell.execute_reply.started": "2022-05-11T00:35:08.577075Z"
        },
        "id": "44c656fb-57a1-4886-9b9d-73404c21a096",
        "outputId": "fd76b0c4-9ee5-42f7-9a83-744a783f7221",
        "tags": []
      },
      "outputs": [
        {
          "data": {
            "text/plain": [
              "array(['Blanks', 'No', 'Yes'], dtype=object)"
            ]
          },
          "execution_count": 11,
          "metadata": {},
          "output_type": "execute_result"
        }
      ],
      "source": [
        "# observe distinct values of some variables\n",
        "dfEmployer.parent_on_enrolment.unique()"
      ]
    },
    {
      "cell_type": "code",
      "execution_count": null,
      "id": "da45730c-5443-418c-94a4-80b18376e285",
      "metadata": {
        "execution": {
          "iopub.execute_input": "2022-05-11T00:35:11.671340Z",
          "iopub.status.busy": "2022-05-11T00:35:11.670896Z",
          "iopub.status.idle": "2022-05-11T00:35:11.676364Z",
          "shell.execute_reply": "2022-05-11T00:35:11.675365Z",
          "shell.execute_reply.started": "2022-05-11T00:35:11.671314Z"
        },
        "id": "da45730c-5443-418c-94a4-80b18376e285",
        "outputId": "531db52a-7052-4429-a8dd-85572a90b77c",
        "tags": []
      },
      "outputs": [
        {
          "data": {
            "text/plain": [
              "array(['Female', 'Male', 'Prefer not to say', 'Not Known', 'No response',\n",
              "       'Transgender'], dtype=object)"
            ]
          },
          "execution_count": 12,
          "metadata": {},
          "output_type": "execute_result"
        }
      ],
      "source": [
        "dfEmployer.gender.unique()"
      ]
    },
    {
      "cell_type": "code",
      "execution_count": null,
      "id": "98634a0d-cbab-4871-9d71-6130d6bc8949",
      "metadata": {
        "execution": {
          "iopub.execute_input": "2022-05-11T00:35:14.119004Z",
          "iopub.status.busy": "2022-05-11T00:35:14.118759Z",
          "iopub.status.idle": "2022-05-11T00:35:14.123735Z",
          "shell.execute_reply": "2022-05-11T00:35:14.122807Z",
          "shell.execute_reply.started": "2022-05-11T00:35:14.118983Z"
        },
        "id": "98634a0d-cbab-4871-9d71-6130d6bc8949",
        "outputId": "dcfd5700-2793-4784-8feb-c39b76df545a",
        "tags": []
      },
      "outputs": [
        {
          "data": {
            "text/plain": [
              "array(['Prefer not to say sexuality', 'Heterosexual',\n",
              "       'No response to sexuality', 'Bisexual', 'Blanks', 'Gay / lesbian',\n",
              "       'Other sexuality'], dtype=object)"
            ]
          },
          "execution_count": 13,
          "metadata": {},
          "output_type": "execute_result"
        }
      ],
      "source": [
        "dfEmployer.sexuality.unique()"
      ]
    },
    {
      "cell_type": "code",
      "execution_count": null,
      "id": "b0ff2d3d-0f6c-495d-b372-d7c6175d4344",
      "metadata": {
        "execution": {
          "iopub.execute_input": "2022-05-11T00:35:19.041230Z",
          "iopub.status.busy": "2022-05-11T00:35:19.040974Z",
          "iopub.status.idle": "2022-05-11T00:35:19.046940Z",
          "shell.execute_reply": "2022-05-11T00:35:19.046007Z",
          "shell.execute_reply.started": "2022-05-11T00:35:19.041208Z"
        },
        "id": "b0ff2d3d-0f6c-495d-b372-d7c6175d4344",
        "outputId": "75586176-3cb4-4654-fc5f-8062882eec8a",
        "tags": []
      },
      "outputs": [
        {
          "data": {
            "text/plain": [
              "array(['(C) Asian or Asian British - Any other Asian background',\n",
              "       '(D) Black or Black British - Other African',\n",
              "       '(D) Black or Black British - Any other Black background',\n",
              "       '(A) White - Any other White background', '(A) White - British',\n",
              "       '(C) Asian or Asian British - Indian',\n",
              "       '(C) Asian or Asian British - Bangladeshi',\n",
              "       '(D) Black or Black British - Caribbean',\n",
              "       '(A) White - Turkish/ Turkish Cypriot',\n",
              "       '(D) Black or Black British - Somali',\n",
              "       '(B) Mixed - White and Black African',\n",
              "       '(E) Other Ethnic Groups - Prefer not to say',\n",
              "       '(E) Other Ethnic Groups - Any other background',\n",
              "       '(A) White - Kurdish', '(E) Other Ethnic Group - Latin American',\n",
              "       '(B) Mixed - White and Black Caribbean', '(A) White - Irish',\n",
              "       '(E) Other Ethnic Group - Arab', '(E) Other Ethnic Groups - Arab',\n",
              "       '(C) Asian or Asian British - Pakistani',\n",
              "       '(E) Other Ethnic Groups - Latin American',\n",
              "       '(D) Black or Black British - Nigerian',\n",
              "       '(D) Black or Black British - Ghanaian',\n",
              "       '(B) Mixed - Any other Mixed background',\n",
              "       '(D) Black or Black British - Eritrean',\n",
              "       '(A) White - Greek/ Greek Cypriot',\n",
              "       '(C) Asian or Asian British - Chinese', 'Not Known',\n",
              "       '(B) Mixed - White and Asian', 'Any Other Ethnic Group',\n",
              "       '(A) White - Gypsy/ Traveller',\n",
              "       'Black/African/Caribbean/Black British - African',\n",
              "       'Mixed/Multiple Ethnic Groups - Other Mixed'], dtype=object)"
            ]
          },
          "execution_count": 14,
          "metadata": {},
          "output_type": "execute_result"
        }
      ],
      "source": [
        "dfEmployer.ethnic_origin.unique()"
      ]
    },
    {
      "cell_type": "code",
      "execution_count": null,
      "id": "2ce9688d-a938-43e7-aef3-f9ec77bca476",
      "metadata": {
        "execution": {
          "iopub.execute_input": "2022-05-11T00:35:24.636637Z",
          "iopub.status.busy": "2022-05-11T00:35:24.636198Z",
          "iopub.status.idle": "2022-05-11T00:35:24.642481Z",
          "shell.execute_reply": "2022-05-11T00:35:24.641358Z",
          "shell.execute_reply.started": "2022-05-11T00:35:24.636606Z"
        },
        "id": "2ce9688d-a938-43e7-aef3-f9ec77bca476",
        "outputId": "8a19dd8c-5ced-48d4-bfc1-a5c8af5acab1",
        "tags": []
      },
      "outputs": [
        {
          "data": {
            "text/plain": [
              "array(['No', 'Blanks', 'Yes', 'Prefer not to say'], dtype=object)"
            ]
          },
          "execution_count": 15,
          "metadata": {},
          "output_type": "execute_result"
        }
      ],
      "source": [
        "dfEmployer.has_disability.unique()"
      ]
    },
    {
      "cell_type": "code",
      "execution_count": null,
      "id": "0bbadb8d-a839-4104-9ef0-9c851c474162",
      "metadata": {
        "execution": {
          "iopub.execute_input": "2022-05-11T00:35:27.252604Z",
          "iopub.status.busy": "2022-05-11T00:35:27.252315Z",
          "iopub.status.idle": "2022-05-11T00:35:27.258051Z",
          "shell.execute_reply": "2022-05-11T00:35:27.257314Z",
          "shell.execute_reply.started": "2022-05-11T00:35:27.252580Z"
        },
        "id": "0bbadb8d-a839-4104-9ef0-9c851c474162",
        "outputId": "6bbf7e5f-75dd-46df-a489-0e3af50e3a7c",
        "tags": []
      },
      "outputs": [
        {
          "data": {
            "text/plain": [
              "array(['Blanks', 'Christian', 'No religion / atheist', 'Muslim',\n",
              "       'Prefer not to say religion', 'Other religion', 'Hindu',\n",
              "       'No response religion', 'Buddhist', 'Jewish', 'Rastafarian',\n",
              "       'Sikh'], dtype=object)"
            ]
          },
          "execution_count": 16,
          "metadata": {},
          "output_type": "execute_result"
        }
      ],
      "source": [
        "dfEmployer.religion.unique()"
      ]
    },
    {
      "cell_type": "code",
      "execution_count": null,
      "id": "2b25cf24-9885-420c-942f-daba93380093",
      "metadata": {
        "execution": {
          "iopub.execute_input": "2022-05-11T00:35:33.979438Z",
          "iopub.status.busy": "2022-05-11T00:35:33.978815Z",
          "iopub.status.idle": "2022-05-11T00:35:33.986693Z",
          "shell.execute_reply": "2022-05-11T00:35:33.985854Z",
          "shell.execute_reply.started": "2022-05-11T00:35:33.979382Z"
        },
        "id": "2b25cf24-9885-420c-942f-daba93380093",
        "outputId": "9e5b06e6-bb00-4bfb-aae9-0967ddd2e2ba",
        "tags": []
      },
      "outputs": [
        {
          "data": {
            "text/plain": [
              "array([\"ISCED Level 6 (Bachelor's or equivalent level)\", 'Blanks',\n",
              "       \"ISCED Level 7 (Master's or equivalent level)\",\n",
              "       'ISCED Level 2 (Lower secondary education)',\n",
              "       'ISCED Level 3 (Upper secondary education)',\n",
              "       'ISCED Level 4 (Post secondary - tertiary and non-tertiary)',\n",
              "       'ISCED Level 5 (Short cycle tertiary education)',\n",
              "       'ISCED Level 1 (Primary education)',\n",
              "       'ISCED Level 0 (Early childhood education)',\n",
              "       'ISCED Level 8 (Doctoral or equivalenmt level)'], dtype=object)"
            ]
          },
          "execution_count": 17,
          "metadata": {},
          "output_type": "execute_result"
        }
      ],
      "source": [
        "dfEmployer.highest_level_of_education.unique()"
      ]
    },
    {
      "cell_type": "code",
      "execution_count": null,
      "id": "0a233282-d528-48c5-b506-447112b6ea2e",
      "metadata": {
        "execution": {
          "iopub.execute_input": "2022-05-11T00:35:38.901093Z",
          "iopub.status.busy": "2022-05-11T00:35:38.900663Z",
          "iopub.status.idle": "2022-05-11T00:35:38.906833Z",
          "shell.execute_reply": "2022-05-11T00:35:38.905871Z",
          "shell.execute_reply.started": "2022-05-11T00:35:38.901055Z"
        },
        "id": "0a233282-d528-48c5-b506-447112b6ea2e",
        "outputId": "028ea4d6-03ed-42ba-d696-02e0c4fba6d6",
        "tags": []
      },
      "outputs": [
        {
          "data": {
            "text/plain": [
              "array(['No', 'Blanks', 'Yes'], dtype=object)"
            ]
          },
          "execution_count": 18,
          "metadata": {},
          "output_type": "execute_result"
        }
      ],
      "source": [
        "dfEmployer.claiming_benefits.unique()"
      ]
    },
    {
      "cell_type": "code",
      "execution_count": null,
      "id": "05a5a58c-257b-47bf-985d-9b66a7c4a262",
      "metadata": {
        "execution": {
          "iopub.execute_input": "2022-05-11T00:35:41.376907Z",
          "iopub.status.busy": "2022-05-11T00:35:41.376579Z",
          "iopub.status.idle": "2022-05-11T00:35:41.382417Z",
          "shell.execute_reply": "2022-05-11T00:35:41.381205Z",
          "shell.execute_reply.started": "2022-05-11T00:35:41.376875Z"
        },
        "id": "05a5a58c-257b-47bf-985d-9b66a7c4a262",
        "outputId": "01a88d06-4d98-4a73-f845-5d9b4decf587",
        "tags": []
      },
      "outputs": [
        {
          "data": {
            "text/plain": [
              "array(['Not in receipt of benefits', nan,\n",
              "       'Prefer not to disclose benefits', 'Universal credit (UC)',\n",
              "       'Other benefit',\n",
              "       'Universal credit (UC), Working Tax Credit, Months on benefits',\n",
              "       'Housing Benefit, Months on benefits',\n",
              "       'Job seekers allowance (JSA), Months on benefits',\n",
              "       'Income support (IS), Other benefit',\n",
              "       'Employment support allowance (ESA)',\n",
              "       'Personal independence payment (PI), Employment support allowance (ESA)',\n",
              "       'Job seekers allowance (JSA)',\n",
              "       'Personal independence payment (PI), Universal credit (UC)',\n",
              "       'Personal independence payment (PI)',\n",
              "       'Employment support allowance (ESA), Disability living allowance (DLA)',\n",
              "       'Months on benefits, Not in receipt of benefits',\n",
              "       'Months on benefits',\n",
              "       'Employment support allowance (ESA), Months on benefits',\n",
              "       'Income support (IS)',\n",
              "       'Job seekers allowance (JSA), Housing Benefit, Months on benefits'],\n",
              "      dtype=object)"
            ]
          },
          "execution_count": 19,
          "metadata": {},
          "output_type": "execute_result"
        }
      ],
      "source": [
        "dfEmployer.benefits.unique()[:20]"
      ]
    },
    {
      "cell_type": "code",
      "execution_count": null,
      "id": "7b904da2-09f4-449f-8af2-de638fab4441",
      "metadata": {
        "execution": {
          "iopub.execute_input": "2022-05-11T00:35:45.605946Z",
          "iopub.status.busy": "2022-05-11T00:35:45.605654Z",
          "iopub.status.idle": "2022-05-11T00:35:45.610708Z",
          "shell.execute_reply": "2022-05-11T00:35:45.609674Z",
          "shell.execute_reply.started": "2022-05-11T00:35:45.605922Z"
        },
        "id": "7b904da2-09f4-449f-8af2-de638fab4441",
        "outputId": "9c25cc13-ec45-4921-e49a-aa4c26f8d236",
        "tags": []
      },
      "outputs": [
        {
          "data": {
            "text/plain": [
              "array(['Whitechapel', 'Stepney Green', 'Forest', nan,\n",
              "       'Blackwall & Cubitt Town', 'Island Gardens', 'Mile End',\n",
              "       'Canary Wharf', 'High Street', 'Bow East', \"King's Park\",\n",
              "       'Lea Bridge', 'Forest Gate South', 'London Fields',\n",
              "       'Farringdon Within', 'Clerkenwell', 'Bunhill', \"St Peter's\",\n",
              "       'Enfield Lock', 'East Barnet'], dtype=object)"
            ]
          },
          "execution_count": 20,
          "metadata": {},
          "output_type": "execute_result"
        }
      ],
      "source": [
        "dfEmployer.ward_name.unique()[:20]"
      ]
    },
    {
      "cell_type": "markdown",
      "id": "03da9352-e419-48d6-ac20-9b851c1ae10d",
      "metadata": {
        "id": "03da9352-e419-48d6-ac20-9b851c1ae10d"
      },
      "source": [
        "#### Describe missing or error data of each variable"
      ]
    },
    {
      "cell_type": "code",
      "execution_count": null,
      "id": "430e253c-3f1e-4e4b-b79f-ac97c1450cc2",
      "metadata": {
        "execution": {
          "iopub.execute_input": "2022-05-11T00:35:49.089679Z",
          "iopub.status.busy": "2022-05-11T00:35:49.089230Z",
          "iopub.status.idle": "2022-05-11T00:35:49.103488Z",
          "shell.execute_reply": "2022-05-11T00:35:49.102464Z",
          "shell.execute_reply.started": "2022-05-11T00:35:49.089635Z"
        },
        "id": "430e253c-3f1e-4e4b-b79f-ac97c1450cc2",
        "outputId": "6c07a2fa-635e-4cd2-b16b-f10751f920d2",
        "tags": []
      },
      "outputs": [
        {
          "data": {
            "text/plain": [
              "employer                      0.000209\n",
              "registration_date             0.000000\n",
              "client_current_age            0.000000\n",
              "parent_on_enrolment           0.000000\n",
              "gender                        0.000000\n",
              "ethnic_origin                 0.000000\n",
              "has_disability                0.000000\n",
              "disability_details            1.000000\n",
              "religion                      0.000000\n",
              "sexuality                     0.000000\n",
              "highest_level_of_education    0.000000\n",
              "claiming_benefits             0.000000\n",
              "benefits                      0.523601\n",
              "ward_name                     0.001462\n",
              "dtype: float64"
            ]
          },
          "execution_count": 21,
          "metadata": {},
          "output_type": "execute_result"
        }
      ],
      "source": [
        "#null ratio\n",
        "dfEmployer.isna().sum() / dfEmployer.shape[0]"
      ]
    },
    {
      "cell_type": "markdown",
      "id": "26d93638-60ed-4a3c-a33d-ddc1857f042a",
      "metadata": {
        "id": "26d93638-60ed-4a3c-a33d-ddc1857f042a"
      },
      "source": [
        "# 2. Data preparation"
      ]
    },
    {
      "cell_type": "code",
      "execution_count": null,
      "id": "bb5bc760",
      "metadata": {
        "execution": {
          "iopub.execute_input": "2022-05-11T01:42:26.825298Z",
          "iopub.status.busy": "2022-05-11T01:42:26.824981Z",
          "iopub.status.idle": "2022-05-11T01:42:26.944847Z",
          "shell.execute_reply": "2022-05-11T01:42:26.943909Z",
          "shell.execute_reply.started": "2022-05-11T01:42:26.825272Z"
        },
        "id": "bb5bc760",
        "outputId": "d67e5d41-fd5e-45bf-aa65-c35eb0dd75ae",
        "tags": []
      },
      "outputs": [
        {
          "data": {
            "text/html": [
              "<div>\n",
              "<style scoped>\n",
              "    .dataframe tbody tr th:only-of-type {\n",
              "        vertical-align: middle;\n",
              "    }\n",
              "\n",
              "    .dataframe tbody tr th {\n",
              "        vertical-align: top;\n",
              "    }\n",
              "\n",
              "    .dataframe thead th {\n",
              "        text-align: right;\n",
              "    }\n",
              "</style>\n",
              "<table border=\"1\" class=\"dataframe\">\n",
              "  <thead>\n",
              "    <tr style=\"text-align: right;\">\n",
              "      <th></th>\n",
              "      <th>employer</th>\n",
              "      <th>client_current_age</th>\n",
              "      <th>parent_on_enrolment</th>\n",
              "      <th>gender</th>\n",
              "      <th>ethnic_origin</th>\n",
              "      <th>has_disability</th>\n",
              "      <th>religion</th>\n",
              "      <th>sexuality</th>\n",
              "      <th>highest_level_of_education</th>\n",
              "      <th>claiming_benefits</th>\n",
              "      <th>...</th>\n",
              "      <th>incapacity_benefit_ib</th>\n",
              "      <th>income_support_is</th>\n",
              "      <th>job_seekers_allowance_jsa</th>\n",
              "      <th>months_on_benefits</th>\n",
              "      <th>not_in_receipt_of_benefits</th>\n",
              "      <th>other_benefit</th>\n",
              "      <th>personal_independence_payment_pi</th>\n",
              "      <th>prefer_not_to_disclose_benefits</th>\n",
              "      <th>universal_credit_uc</th>\n",
              "      <th>working_tax_credit</th>\n",
              "    </tr>\n",
              "  </thead>\n",
              "  <tbody>\n",
              "    <tr>\n",
              "      <th>0</th>\n",
              "      <td>0</td>\n",
              "      <td>29</td>\n",
              "      <td>2</td>\n",
              "      <td>0</td>\n",
              "      <td>21</td>\n",
              "      <td>0</td>\n",
              "      <td>0.0</td>\n",
              "      <td>6.0</td>\n",
              "      <td>6.0</td>\n",
              "      <td>0</td>\n",
              "      <td>...</td>\n",
              "      <td>0</td>\n",
              "      <td>0</td>\n",
              "      <td>0</td>\n",
              "      <td>0</td>\n",
              "      <td>1</td>\n",
              "      <td>0</td>\n",
              "      <td>0</td>\n",
              "      <td>0</td>\n",
              "      <td>0</td>\n",
              "      <td>0</td>\n",
              "    </tr>\n",
              "    <tr>\n",
              "      <th>1</th>\n",
              "      <td>0</td>\n",
              "      <td>32</td>\n",
              "      <td>2</td>\n",
              "      <td>1</td>\n",
              "      <td>21</td>\n",
              "      <td>0</td>\n",
              "      <td>0.0</td>\n",
              "      <td>6.0</td>\n",
              "      <td>6.0</td>\n",
              "      <td>0</td>\n",
              "      <td>...</td>\n",
              "      <td>0</td>\n",
              "      <td>0</td>\n",
              "      <td>0</td>\n",
              "      <td>0</td>\n",
              "      <td>1</td>\n",
              "      <td>0</td>\n",
              "      <td>0</td>\n",
              "      <td>0</td>\n",
              "      <td>0</td>\n",
              "      <td>0</td>\n",
              "    </tr>\n",
              "    <tr>\n",
              "      <th>2</th>\n",
              "      <td>0</td>\n",
              "      <td>48</td>\n",
              "      <td>2</td>\n",
              "      <td>0</td>\n",
              "      <td>11</td>\n",
              "      <td>4</td>\n",
              "      <td>2.0</td>\n",
              "      <td>3.0</td>\n",
              "      <td>0.5</td>\n",
              "      <td>2</td>\n",
              "      <td>...</td>\n",
              "      <td>0</td>\n",
              "      <td>0</td>\n",
              "      <td>0</td>\n",
              "      <td>0</td>\n",
              "      <td>0</td>\n",
              "      <td>0</td>\n",
              "      <td>0</td>\n",
              "      <td>0</td>\n",
              "      <td>0</td>\n",
              "      <td>0</td>\n",
              "    </tr>\n",
              "    <tr>\n",
              "      <th>3</th>\n",
              "      <td>0</td>\n",
              "      <td>55</td>\n",
              "      <td>2</td>\n",
              "      <td>1</td>\n",
              "      <td>16</td>\n",
              "      <td>0</td>\n",
              "      <td>0.0</td>\n",
              "      <td>4.0</td>\n",
              "      <td>7.0</td>\n",
              "      <td>1</td>\n",
              "      <td>...</td>\n",
              "      <td>0</td>\n",
              "      <td>0</td>\n",
              "      <td>0</td>\n",
              "      <td>0</td>\n",
              "      <td>0</td>\n",
              "      <td>0</td>\n",
              "      <td>0</td>\n",
              "      <td>0</td>\n",
              "      <td>0</td>\n",
              "      <td>0</td>\n",
              "    </tr>\n",
              "    <tr>\n",
              "      <th>4</th>\n",
              "      <td>0</td>\n",
              "      <td>30</td>\n",
              "      <td>2</td>\n",
              "      <td>0</td>\n",
              "      <td>32</td>\n",
              "      <td>0</td>\n",
              "      <td>0.0</td>\n",
              "      <td>4.0</td>\n",
              "      <td>2.0</td>\n",
              "      <td>1</td>\n",
              "      <td>...</td>\n",
              "      <td>0</td>\n",
              "      <td>0</td>\n",
              "      <td>0</td>\n",
              "      <td>0</td>\n",
              "      <td>0</td>\n",
              "      <td>0</td>\n",
              "      <td>0</td>\n",
              "      <td>1</td>\n",
              "      <td>0</td>\n",
              "      <td>0</td>\n",
              "    </tr>\n",
              "  </tbody>\n",
              "</table>\n",
              "<p>5 rows × 25 columns</p>\n",
              "</div>"
            ],
            "text/plain": [
              "   employer  client_current_age  parent_on_enrolment  gender  ethnic_origin  \\\n",
              "0         0                  29                    2       0             21   \n",
              "1         0                  32                    2       1             21   \n",
              "2         0                  48                    2       0             11   \n",
              "3         0                  55                    2       1             16   \n",
              "4         0                  30                    2       0             32   \n",
              "\n",
              "   has_disability  religion  sexuality  highest_level_of_education  \\\n",
              "0               0       0.0        6.0                         6.0   \n",
              "1               0       0.0        6.0                         6.0   \n",
              "2               4       2.0        3.0                         0.5   \n",
              "3               0       0.0        4.0                         7.0   \n",
              "4               0       0.0        4.0                         2.0   \n",
              "\n",
              "   claiming_benefits  ...  incapacity_benefit_ib  income_support_is  \\\n",
              "0                  0  ...                      0                  0   \n",
              "1                  0  ...                      0                  0   \n",
              "2                  2  ...                      0                  0   \n",
              "3                  1  ...                      0                  0   \n",
              "4                  1  ...                      0                  0   \n",
              "\n",
              "   job_seekers_allowance_jsa  months_on_benefits  not_in_receipt_of_benefits  \\\n",
              "0                          0                   0                           1   \n",
              "1                          0                   0                           1   \n",
              "2                          0                   0                           0   \n",
              "3                          0                   0                           0   \n",
              "4                          0                   0                           0   \n",
              "\n",
              "   other_benefit  personal_independence_payment_pi  \\\n",
              "0              0                                 0   \n",
              "1              0                                 0   \n",
              "2              0                                 0   \n",
              "3              0                                 0   \n",
              "4              0                                 0   \n",
              "\n",
              "   prefer_not_to_disclose_benefits  universal_credit_uc  working_tax_credit  \n",
              "0                                0                    0                   0  \n",
              "1                                0                    0                   0  \n",
              "2                                0                    0                   0  \n",
              "3                                0                    0                   0  \n",
              "4                                1                    0                   0  \n",
              "\n",
              "[5 rows x 25 columns]"
            ]
          },
          "execution_count": 159,
          "metadata": {},
          "output_type": "execute_result"
        }
      ],
      "source": [
        "#make a copy dataframe\n",
        "df = dfEmployer.copy()\n",
        "\n",
        "# feature selection\n",
        "df = df.drop(columns=['registration_date', 'disability_details'])\n",
        "df = df.fillna('')\n",
        "\n",
        "# Target variable Employer into binary No Outcome - 0, has an outcome -1\n",
        "df['employer'] = df.employer.map(lambda x: 0 if x == 'No Outcome' else 1)\n",
        "\n",
        "# Gender into ordinal Female - 0, Male -1, Transgender=2, Prefer not to say=3, any others=4\n",
        "def mapGender(x):\n",
        "    if x == 'Female': y = 0\n",
        "    elif x == 'Male': y = 1\n",
        "    elif x == 'Transgender': y = 2\n",
        "    elif x == 'Prefer not to say': y = 3\n",
        "    else: y = 4\n",
        "    return y\n",
        "df['gender'] = df.gender.map(mapGender)\n",
        "\n",
        "# Claiming_Benefits into ordinal No=0, Yes=1, Blank=2\n",
        "def mapClamingBenefits(x):\n",
        "    if x == 'No': y = 0\n",
        "    elif x == 'Yes': y = 1\n",
        "    else: y = 2\n",
        "    return y\n",
        "df['claiming_benefits'] = df.claiming_benefits.map(mapClamingBenefits)\n",
        "\n",
        "# parent_on_enrolment\n",
        "def mapParents(x):\n",
        "    if x == 'No': y = 0\n",
        "    elif x == 'Yes': y = 1\n",
        "    else: y = 2\n",
        "    return y\n",
        "df['parent_on_enrolment'] = df['parent_on_enrolment'].map(mapParents)\n",
        "\n",
        "# has_disability\n",
        "def mapDisability(x):\n",
        "    if x == 'No': y = 0\n",
        "    elif x == 'Yes': y = 1\n",
        "    elif x == 'Prefer not to say': y = 3\n",
        "    else: y = 4\n",
        "    return y\n",
        "df['has_disability'] = df['has_disability'].map(mapDisability)\n",
        "\n",
        "# Ethnic_Origin into ordinal number based on their occurrence in the data set in descending order\n",
        "\n",
        "mapEthnic = df.ethnic_origin.unique()[::-1].tolist()\n",
        "mapEthnic = {cat: idx for idx, cat in enumerate(mapEthnic)}\n",
        "df['ethnic_origin'] = df.ethnic_origin.map(mapEthnic)\n",
        "\n",
        "# WARD_NAME into ordinal numbers based on their occurrence in the data set in ascending order\n",
        "mapWard = df.ward_name.unique().tolist()\n",
        "mapWard = {cat: idx+1 for idx, cat in enumerate(mapWard)}\n",
        "mapWard[np.nan] = 0\n",
        "df['ward_name'] = df.ward_name.map(mapWard)\n",
        "\n",
        "# Highest_Level_of_Education into ordinal numbers based on UK ISCED Level\n",
        "eduLevel = df.highest_level_of_education.str.extract('(Level \\d+)')[0].str.extract('(\\d+)')\n",
        "eduLevel = eduLevel.fillna(0.5).astype(float)\n",
        "df['highest_level_of_education'] = eduLevel\n",
        "\n",
        "#benifit\n",
        "df['benefits'] = df['benefits'].str.split(', ')\n",
        "encoder = MultiLabelBinarizer()\n",
        "dfBenefits = pd.DataFrame(encoder.fit_transform(df.benefits), columns=encoder.classes_)\n",
        "df = df.join(dfBenefits)\n",
        "\n",
        "#encoding in order to use Machine Learning algorithms\n",
        "encoderReligion = OrdinalEncoder()\n",
        "df['religion'] = encoderReligion.fit_transform(df[['religion']])\n",
        "\n",
        "encoderSexuality = OrdinalEncoder()\n",
        "df['sexuality'] = encoderSexuality.fit_transform(df[['sexuality']])\n",
        "\n",
        "columns = df.columns.str.lower()\n",
        "columns = columns.str.replace(' ', '_', regex=False)\n",
        "columns = columns.str.replace('(', '', regex=False)\n",
        "columns = columns.str.replace(')', '', regex=False)\n",
        "df.columns = columns\n",
        "df = df.drop(columns=['', 'benefits'])\n",
        "\n",
        "dfEmployer = df.copy()\n",
        "\n",
        "dfEmployer.head()"
      ]
    },
    {
      "cell_type": "markdown",
      "id": "8e774520-4718-4d99-a4c2-95d51873d27b",
      "metadata": {
        "id": "8e774520-4718-4d99-a4c2-95d51873d27b"
      },
      "source": [
        "# 3. Data analysis"
      ]
    },
    {
      "cell_type": "markdown",
      "id": "489c6b70",
      "metadata": {
        "id": "489c6b70"
      },
      "source": [
        "#### Write a Python program to show summary statistics of sum, mean, standard deviation, skewness, and kurtosis of age variable"
      ]
    },
    {
      "cell_type": "code",
      "execution_count": null,
      "id": "3c8c0784",
      "metadata": {
        "id": "3c8c0784",
        "outputId": "7492c9bf-5ab0-4595-dfa0-9cd6887267a1"
      },
      "outputs": [
        {
          "name": "stdout",
          "output_type": "stream",
          "text": [
            "sizeAge = 4788.0000\n",
            "minAge = 0.0000\n",
            "maxAge = 137.0000\n",
            "meanAge = 37.3262\n",
            "varAge = 198.4655\n",
            "skewnessAge = 0.9040\n",
            "kurtosisAge = 3.1877\n"
          ]
        }
      ],
      "source": [
        "from scipy import stats\n",
        "\n",
        "age = dfEmployer.client_current_age\n",
        "sizeAge, (minAge, maxAge), meanAge, varAge, skewnessAge, kurtosisAge = stats.describe(age)\n",
        "statistics = ['sizeAge', 'minAge', 'maxAge', 'meanAge', 'varAge', 'skewnessAge', 'kurtosisAge']\n",
        "_ = [print(f'{statistic} = {globals()[statistic]:.4f}') for statistic in statistics]"
      ]
    },
    {
      "cell_type": "markdown",
      "id": "702e0d27",
      "metadata": {
        "id": "702e0d27"
      },
      "source": [
        "#### Write a Python program to calculate and show correlation of each variable with the target variable "
      ]
    },
    {
      "cell_type": "code",
      "execution_count": null,
      "id": "899e42e6",
      "metadata": {
        "id": "899e42e6",
        "outputId": "2c46093e-98be-42e7-9906-11281c357ceb"
      },
      "outputs": [
        {
          "data": {
            "text/html": [
              "<div>\n",
              "<style scoped>\n",
              "    .dataframe tbody tr th:only-of-type {\n",
              "        vertical-align: middle;\n",
              "    }\n",
              "\n",
              "    .dataframe tbody tr th {\n",
              "        vertical-align: top;\n",
              "    }\n",
              "\n",
              "    .dataframe thead th {\n",
              "        text-align: right;\n",
              "    }\n",
              "</style>\n",
              "<table border=\"1\" class=\"dataframe\">\n",
              "  <thead>\n",
              "    <tr style=\"text-align: right;\">\n",
              "      <th></th>\n",
              "      <th>employer</th>\n",
              "    </tr>\n",
              "  </thead>\n",
              "  <tbody>\n",
              "    <tr>\n",
              "      <th>client_current_age</th>\n",
              "      <td>-0.066898</td>\n",
              "    </tr>\n",
              "    <tr>\n",
              "      <th>parent_on_enrolment</th>\n",
              "      <td>0.238253</td>\n",
              "    </tr>\n",
              "    <tr>\n",
              "      <th>gender</th>\n",
              "      <td>0.022208</td>\n",
              "    </tr>\n",
              "    <tr>\n",
              "      <th>ethnic_origin</th>\n",
              "      <td>0.004352</td>\n",
              "    </tr>\n",
              "    <tr>\n",
              "      <th>has_disability</th>\n",
              "      <td>-0.287484</td>\n",
              "    </tr>\n",
              "    <tr>\n",
              "      <th>religion</th>\n",
              "      <td>0.024797</td>\n",
              "    </tr>\n",
              "    <tr>\n",
              "      <th>sexuality</th>\n",
              "      <td>-0.029505</td>\n",
              "    </tr>\n",
              "    <tr>\n",
              "      <th>highest_level_of_education</th>\n",
              "      <td>0.258805</td>\n",
              "    </tr>\n",
              "    <tr>\n",
              "      <th>claiming_benefits</th>\n",
              "      <td>-0.261323</td>\n",
              "    </tr>\n",
              "    <tr>\n",
              "      <th>ward_name</th>\n",
              "      <td>-0.014923</td>\n",
              "    </tr>\n",
              "    <tr>\n",
              "      <th>carers_allowance</th>\n",
              "      <td>0.009690</td>\n",
              "    </tr>\n",
              "    <tr>\n",
              "      <th>disability_living_allowance_dla</th>\n",
              "      <td>0.063849</td>\n",
              "    </tr>\n",
              "    <tr>\n",
              "      <th>employment_support_allowance_esa</th>\n",
              "      <td>0.035301</td>\n",
              "    </tr>\n",
              "    <tr>\n",
              "      <th>housing_benefit</th>\n",
              "      <td>0.019595</td>\n",
              "    </tr>\n",
              "    <tr>\n",
              "      <th>incapacity_benefit_ib</th>\n",
              "      <td>0.010786</td>\n",
              "    </tr>\n",
              "    <tr>\n",
              "      <th>income_support_is</th>\n",
              "      <td>0.063627</td>\n",
              "    </tr>\n",
              "    <tr>\n",
              "      <th>job_seekers_allowance_jsa</th>\n",
              "      <td>0.123271</td>\n",
              "    </tr>\n",
              "    <tr>\n",
              "      <th>months_on_benefits</th>\n",
              "      <td>0.166933</td>\n",
              "    </tr>\n",
              "    <tr>\n",
              "      <th>not_in_receipt_of_benefits</th>\n",
              "      <td>0.221940</td>\n",
              "    </tr>\n",
              "    <tr>\n",
              "      <th>other_benefit</th>\n",
              "      <td>0.000738</td>\n",
              "    </tr>\n",
              "    <tr>\n",
              "      <th>personal_independence_payment_pi</th>\n",
              "      <td>-0.015698</td>\n",
              "    </tr>\n",
              "    <tr>\n",
              "      <th>prefer_not_to_disclose_benefits</th>\n",
              "      <td>0.055603</td>\n",
              "    </tr>\n",
              "    <tr>\n",
              "      <th>universal_credit_uc</th>\n",
              "      <td>0.059612</td>\n",
              "    </tr>\n",
              "    <tr>\n",
              "      <th>working_tax_credit</th>\n",
              "      <td>0.023955</td>\n",
              "    </tr>\n",
              "  </tbody>\n",
              "</table>\n",
              "</div>"
            ],
            "text/plain": [
              "                                  employer\n",
              "client_current_age               -0.066898\n",
              "parent_on_enrolment               0.238253\n",
              "gender                            0.022208\n",
              "ethnic_origin                     0.004352\n",
              "has_disability                   -0.287484\n",
              "religion                          0.024797\n",
              "sexuality                        -0.029505\n",
              "highest_level_of_education        0.258805\n",
              "claiming_benefits                -0.261323\n",
              "ward_name                        -0.014923\n",
              "carers_allowance                  0.009690\n",
              "disability_living_allowance_dla   0.063849\n",
              "employment_support_allowance_esa  0.035301\n",
              "housing_benefit                   0.019595\n",
              "incapacity_benefit_ib             0.010786\n",
              "income_support_is                 0.063627\n",
              "job_seekers_allowance_jsa         0.123271\n",
              "months_on_benefits                0.166933\n",
              "not_in_receipt_of_benefits        0.221940\n",
              "other_benefit                     0.000738\n",
              "personal_independence_payment_pi -0.015698\n",
              "prefer_not_to_disclose_benefits   0.055603\n",
              "universal_credit_uc               0.059612\n",
              "working_tax_credit                0.023955"
            ]
          },
          "execution_count": 100,
          "metadata": {},
          "output_type": "execute_result"
        }
      ],
      "source": [
        "dfEmployer.corr().employer.to_frame().iloc[1:]"
      ]
    },
    {
      "cell_type": "markdown",
      "id": "8378c5a1-703a-4f03-8254-6f48c9f73209",
      "metadata": {
        "id": "8378c5a1-703a-4f03-8254-6f48c9f73209"
      },
      "source": [
        "# 4. Data exploration"
      ]
    },
    {
      "cell_type": "markdown",
      "id": "135353ce",
      "metadata": {
        "id": "135353ce"
      },
      "source": [
        "#### Write a Python program to show histogram plot of any user chosen variables."
      ]
    },
    {
      "cell_type": "code",
      "execution_count": null,
      "id": "c4801d05",
      "metadata": {
        "id": "c4801d05",
        "outputId": "196ca937-b7b0-4e29-81c1-b8d0c3da4e5e"
      },
      "outputs": [
        {
          "data": {
            "image/png": "[encoded data removed]",
            "text/plain": [
              "<Figure size 432x288 with 1 Axes>"
            ]
          },
          "metadata": {
            "image/png": {
              "height": 262,
              "width": 386
            }
          },
          "output_type": "display_data"
        },
        {
          "data": {
            "image/png": "[encoded data removed]",
            "text/plain": [
              "<Figure size 432x288 with 1 Axes>"
            ]
          },
          "metadata": {
            "image/png": {
              "height": 262,
              "width": 392
            }
          },
          "output_type": "display_data"
        }
      ],
      "source": [
        "# input a number of variables\n",
        "variables = ['client_current_age', 'highest_level_of_education']\n",
        "\n",
        "# plot\n",
        "for variable in variables:\n",
        "    plt.figure(figsize=(6,4))\n",
        "    sns.histplot(df[variable], color='darkred', kde=True, stat='count', edgecolor='w')\n",
        "    plt.show()"
      ]
    },
    {
      "cell_type": "markdown",
      "id": "6a7051c2",
      "metadata": {
        "id": "6a7051c2"
      },
      "source": [
        "#### Write a Python program to show scatter plot for any two user chosen variables. "
      ]
    },
    {
      "cell_type": "code",
      "execution_count": null,
      "id": "12b3ddef",
      "metadata": {
        "id": "12b3ddef",
        "outputId": "f8407de1-a0b2-47d3-dc2c-e6dcf12c429f"
      },
      "outputs": [
        {
          "data": {
            "image/png": "[encoded data removed]",
            "text/plain": [
              "<Figure size 720x360 with 1 Axes>"
            ]
          },
          "metadata": {
            "image/png": {
              "height": 316,
              "width": 599
            }
          },
          "output_type": "display_data"
        }
      ],
      "source": [
        "# input any 2 variables\n",
        "variablePair = ['client_current_age', 'highest_level_of_education']\n",
        "\n",
        "# plot\n",
        "x, y = variablePair\n",
        "plt.figure(figsize=(10,5))\n",
        "sns.scatterplot(data=df, x=x, y=y, alpha=0.2)\n",
        "plt.show()"
      ]
    },
    {
      "cell_type": "markdown",
      "id": "e8305147-b3b1-4a24-946c-2b56e3cbb7c6",
      "metadata": {
        "id": "e8305147-b3b1-4a24-946c-2b56e3cbb7c6"
      },
      "source": [
        "# 5. Data mining"
      ]
    },
    {
      "cell_type": "markdown",
      "id": "ebc02567",
      "metadata": {
        "id": "ebc02567"
      },
      "source": [
        "#### Build any two Python Predictive Models to predict client employment using prepared variables from the iWork data"
      ]
    },
    {
      "cell_type": "code",
      "execution_count": null,
      "id": "7617e8bb",
      "metadata": {
        "id": "7617e8bb"
      },
      "outputs": [],
      "source": [
        "x = df.iloc[:, 1:]\n",
        "y = df.iloc[:, 0]\n",
        "xTrain, xTest, yTrain, yTest = train_test_split(x, y, test_size=0.2, random_state=7)"
      ]
    },
    {
      "cell_type": "code",
      "execution_count": null,
      "id": "24a98ca7",
      "metadata": {
        "id": "24a98ca7",
        "outputId": "611f2a91-1d1c-423f-8ccd-0dec7685c46b"
      },
      "outputs": [
        {
          "data": {
            "text/plain": [
              "(3830, 24)"
            ]
          },
          "execution_count": 190,
          "metadata": {},
          "output_type": "execute_result"
        }
      ],
      "source": [
        "xTrain.shape"
      ]
    },
    {
      "cell_type": "code",
      "execution_count": null,
      "id": "6f2ab297",
      "metadata": {
        "id": "6f2ab297",
        "outputId": "23e636c9-a997-4dcc-c710-bdd8a3c560fb"
      },
      "outputs": [
        {
          "data": {
            "text/plain": [
              "(958, 24)"
            ]
          },
          "execution_count": 189,
          "metadata": {},
          "output_type": "execute_result"
        }
      ],
      "source": [
        "xTest.shape"
      ]
    },
    {
      "cell_type": "code",
      "execution_count": null,
      "id": "e186c721",
      "metadata": {
        "id": "e186c721",
        "outputId": "79e36802-34eb-4147-f0ed-847d00812add"
      },
      "outputs": [
        {
          "name": "stdout",
          "output_type": "stream",
          "text": [
            "aucTrain=0.9690 aucTest=0.6742 [KNeighborsClassifier]\n",
            "aucTrain=0.8030 aucTest=0.7647 [DecisionTreeClassifier]\n",
            "aucTrain=0.7856 aucTest=0.7660 [GaussianNB]\n",
            "aucTrain=0.7976 aucTest=0.7906 [LogisticRegression]\n",
            "aucTrain=0.7909 aucTest=0.7664 [BernoulliNB]\n",
            "aucTrain=0.8850 aucTest=0.8175 [RandomForestClassifier]\n",
            "aucTrain=0.8914 aucTest=0.8242 [ExtraTreesClassifier]\n",
            "aucTrain=0.9800 aucTest=0.8279 [GradientBoostingClassifier]\n",
            "aucTrain=0.8299 aucTest=0.7996 [AdaBoostClassifier]\n"
          ]
        }
      ],
      "source": [
        "algos = [\n",
        "    KNeighborsClassifier(n_neighbors=2, weights='uniform'),\n",
        "    DecisionTreeClassifier(max_depth=4, min_samples_leaf=5),\n",
        "    GaussianNB(),\n",
        "    LogisticRegression(),\n",
        "    BernoulliNB(),\n",
        "    RandomForestClassifier(max_depth=6),\n",
        "    ExtraTreesClassifier(n_estimators=300, max_depth=8, max_features=0.2),\n",
        "    GradientBoostingClassifier(n_estimators=200, learning_rate=0.3, min_samples_leaf=10, max_depth=6, max_features=0.1), \n",
        "    AdaBoostClassifier(n_estimators=300, learning_rate=0.3)\n",
        "]\n",
        "\n",
        "for algo in algos:\n",
        "    model = algo.fit(xTrain, yTrain)\n",
        "    yTrainProb = model.predict_proba(xTrain)[:, 1]\n",
        "    yTestProb = model.predict_proba(xTest)[:, 1]\n",
        "    aucTrain = roc_auc_score(yTrain, yTrainProb)\n",
        "    aucTest = roc_auc_score(yTest, yTestProb)\n",
        "    print(f'aucTrain={aucTrain:.4f} aucTest={aucTest:.4f} [{model.__class__.__name__}]')"
      ]
    }
  ],
  "metadata": {
    "colab": {
      "name": "Islington_workbook (1).ipynb",
      "provenance": [],
      "collapsed_sections": []
    },
    "kernelspec": {
      "display_name": "Python 3 (ipykernel)",
      "language": "python",
      "name": "python3"
    },
    "language_info": {
      "codemirror_mode": {
        "name": "ipython",
        "version": 3
      },
      "file_extension": ".py",
      "mimetype": "text/x-python",
      "name": "python",
      "nbconvert_exporter": "python",
      "pygments_lexer": "ipython3",
      "version": "3.9.7"
    }
  },
  "nbformat": 4,
  "nbformat_minor": 5
}